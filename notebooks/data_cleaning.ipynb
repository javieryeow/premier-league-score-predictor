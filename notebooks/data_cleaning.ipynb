{
 "cells": [
  {
   "cell_type": "code",
   "execution_count": 12,
   "id": "b8abfbf6",
   "metadata": {},
   "outputs": [
    {
     "name": "stdout",
     "output_type": "stream",
     "text": [
      "(12160, 43)\n",
      "['MatchID', 'Season', 'MatchWeek', 'Date', 'Time', 'HomeTeam', 'AwayTeam', 'FullTimeHomeTeamGoals', 'FullTimeAwayTeamGoals', 'FullTimeResult', 'HalfTimeHomeTeamGoals', 'HalfTimeAwayTeamGoals', 'HalfTimeResult', 'Referee', 'HomeTeamShots', 'AwayTeamShots', 'HomeTeamShotsOnTarget', 'AwayTeamShotsOnTarget', 'HomeTeamCorners', 'AwayTeamCorners', 'HomeTeamFouls', 'AwayTeamFouls', 'HomeTeamYellowCards', 'AwayTeamYellowCards', 'HomeTeamRedCards', 'AwayTeamRedCards', 'B365HomeTeam', 'B365Draw', 'B365AwayTeam', 'B365Over2.5Goals', 'B365Under2.5Goals', 'MarketMaxHomeTeam', 'MarketMaxDraw', 'MarketMaxAwayTeam', 'MarketAvgHomeTeam', 'MarketAvgDraw', 'MarketAvgAwayTeam', 'MarketMaxOver2.5Goals', 'MarketMaxUnder2.5Goals', 'MarketAvgOver2.5Goals', 'MarketAvgUnder2.5Goals', 'HomeTeamPoints', 'AwayTeamPoints']\n"
     ]
    }
   ],
   "source": [
    "import pandas as pd\n",
    "\n",
    "df = pd.read_csv(\"../data/PremierLeague.csv\")\n",
    "print(df.shape)\n",
    "print(df.columns.tolist())"
   ]
  },
  {
   "cell_type": "code",
   "execution_count": 13,
   "id": "96ea0471",
   "metadata": {},
   "outputs": [
    {
     "name": "stdout",
     "output_type": "stream",
     "text": [
      "(12160, 26)\n",
      "Index(['MatchID', 'Season', 'MatchWeek', 'Date', 'HomeTeam', 'AwayTeam',\n",
      "       'FullTimeHomeTeamGoals', 'FullTimeAwayTeamGoals', 'FullTimeResult',\n",
      "       'HalfTimeHomeTeamGoals', 'HalfTimeAwayTeamGoals', 'HalfTimeResult',\n",
      "       'HomeTeamShots', 'AwayTeamShots', 'HomeTeamShotsOnTarget',\n",
      "       'AwayTeamShotsOnTarget', 'HomeTeamCorners', 'AwayTeamCorners',\n",
      "       'HomeTeamFouls', 'AwayTeamFouls', 'HomeTeamYellowCards',\n",
      "       'AwayTeamYellowCards', 'HomeTeamRedCards', 'AwayTeamRedCards',\n",
      "       'HomeTeamPoints', 'AwayTeamPoints'],\n",
      "      dtype='object')\n"
     ]
    }
   ],
   "source": [
    "# drop unnecessary columns such as referee and sports betting columns since we only want to focus on the match data, dropping time column because time data only added from 19/20 season onwards\n",
    "\n",
    "drop_cols=[\n",
    "    \"B365HomeTeam\", \"B365Draw\", \"B365AwayTeam\", \"B365Over2.5Goals\", \n",
    "    \"B365Under2.5Goals\", \"MarketMaxHomeTeam\", \"MarketMaxDraw\", \"MarketMaxAwayTeam\", \n",
    "    \"MarketMaxOver2.5Goals\", \"MarketMaxUnder2.5Goals\", \"MarketAvgOver2.5Goals\", \n",
    "    \"MarketAvgUnder2.5Goals\", \"MarketAvgHomeTeam\", \"MarketAvgAwayTeam\", \"MarketAvgDraw\", \"Referee\", \"Time\",\n",
    "]\n",
    "\n",
    "df = df.drop(columns=[col for col in drop_cols if col in df.columns])\n",
    "print(df.shape)\n",
    "print(df.columns)\n",
    "\n"
   ]
  },
  {
   "cell_type": "code",
   "execution_count": 14,
   "id": "7bf0d27c",
   "metadata": {},
   "outputs": [
    {
     "name": "stdout",
     "output_type": "stream",
     "text": [
      "['1993-1994' '1994-1995' '1995-1996' '1996-1997' '1997-1998' '1998-1999'\n",
      " '1999-2000' '2000-2001' '2001-2002' '2002-2003' '2003-2004' '2004-2005'\n",
      " '2005-2006' '2006-2007' '2007-2008' '2008-2009' '2009-2010' '2010-2011'\n",
      " '2011-2012' '2012-2013' '2013-2014' '2014-2015' '2015-2016' '2016-2017'\n",
      " '2017-2018' '2018-2019' '2019-2020' '2020-2021' '2021-2022' '2022-2023'\n",
      " '2023-2024' '2024-2025']\n",
      "['2000-2001' '2001-2002' '2002-2003' '2003-2004' '2004-2005' '2005-2006'\n",
      " '2006-2007' '2007-2008' '2008-2009' '2009-2010' '2010-2011' '2011-2012'\n",
      " '2012-2013' '2013-2014' '2014-2015' '2015-2016' '2016-2017' '2017-2018'\n",
      " '2018-2019' '2019-2020' '2020-2021' '2021-2022' '2022-2023' '2023-2024'\n",
      " '2024-2025']\n",
      "(9500, 26)\n"
     ]
    }
   ],
   "source": [
    "# Remove previous seasons and keep 2000/2001 onwards since previous seasons missing key match data\n",
    "\n",
    "print(df[\"Season\"].unique())\n",
    "\n",
    "df[\"SeasonStart\"] = df[\"Season\"].str[:4].astype(int)\n",
    "df = df[df[\"SeasonStart\"] >= 2000]\n",
    "df = df.drop(columns=[\"SeasonStart\"])\n",
    "\n",
    "print(df[\"Season\"].unique())\n",
    "print(df.shape)\n"
   ]
  },
  {
   "cell_type": "code",
   "execution_count": 19,
   "id": "5c973aa6",
   "metadata": {},
   "outputs": [
    {
     "name": "stdout",
     "output_type": "stream",
     "text": [
      "MatchID                  0\n",
      "Season                   0\n",
      "MatchWeek                0\n",
      "Date                     0\n",
      "HomeTeam                 0\n",
      "AwayTeam                 0\n",
      "FullTimeHomeTeamGoals    0\n",
      "FullTimeAwayTeamGoals    0\n",
      "FullTimeResult           0\n",
      "HalfTimeHomeTeamGoals    0\n",
      "HalfTimeAwayTeamGoals    0\n",
      "HalfTimeResult           0\n",
      "HomeTeamShots            0\n",
      "AwayTeamShots            0\n",
      "HomeTeamShotsOnTarget    0\n",
      "AwayTeamShotsOnTarget    0\n",
      "HomeTeamCorners          0\n",
      "AwayTeamCorners          0\n",
      "HomeTeamFouls            0\n",
      "AwayTeamFouls            0\n",
      "HomeTeamYellowCards      0\n",
      "AwayTeamYellowCards      0\n",
      "HomeTeamRedCards         0\n",
      "AwayTeamRedCards         0\n",
      "HomeTeamPoints           0\n",
      "AwayTeamPoints           0\n",
      "dtype: int64\n",
      "0\n",
      "['Charlton' 'Chelsea' 'Coventry' 'Derby' 'Leeds' 'Leicester' 'Liverpool'\n",
      " 'Sunderland' 'Tottenham' 'Man United' 'Arsenal' 'Bradford' 'Ipswich'\n",
      " 'Middlesbrough' 'Everton' 'Man City' 'Newcastle' 'Southampton' 'West Ham'\n",
      " 'Aston Villa' 'Bolton' 'Blackburn' 'Fulham' 'Birmingham' 'West Brom'\n",
      " 'Portsmouth' 'Wolves' 'Norwich' 'Crystal Palace' 'Wigan' 'Reading'\n",
      " 'Sheffield United' 'Watford' 'Hull' 'Stoke' 'Burnley' 'Blackpool' 'QPR'\n",
      " 'Swansea' 'Cardiff' 'Bournemouth' 'Brighton' 'Huddersfield' 'Brentford'\n",
      " \"Nott'm Forest\" 'Luton']\n",
      "['Man City' 'West Ham' 'Middlesbrough' 'Southampton' 'Everton'\n",
      " 'Aston Villa' 'Bradford' 'Arsenal' 'Ipswich' 'Newcastle' 'Liverpool'\n",
      " 'Chelsea' 'Man United' 'Tottenham' 'Charlton' 'Sunderland' 'Derby'\n",
      " 'Coventry' 'Leicester' 'Leeds' 'Blackburn' 'Bolton' 'Fulham' 'West Brom'\n",
      " 'Birmingham' 'Wolves' 'Portsmouth' 'Crystal Palace' 'Norwich' 'Wigan'\n",
      " 'Watford' 'Sheffield United' 'Reading' 'Stoke' 'Hull' 'Burnley'\n",
      " 'Blackpool' 'Swansea' 'QPR' 'Cardiff' 'Bournemouth' 'Huddersfield'\n",
      " 'Brighton' 'Brentford' \"Nott'm Forest\" 'Luton']\n"
     ]
    }
   ],
   "source": [
    "# convert date to datetime\n",
    "df[\"Date\"] = pd.to_datetime(df[\"Date\"], errors=\"coerce\")\n",
    "\n",
    "# check for missing values\n",
    "missing = df.isnull().sum()\n",
    "print(missing)\n",
    "\n",
    "# check for duplicates\n",
    "print(df.duplicated().sum())\n",
    "\n",
    "# check team name format\n",
    "print(df[\"HomeTeam\"].unique())\n",
    "print(df[\"AwayTeam\"].unique())\n",
    "\n"
   ]
  },
  {
   "cell_type": "code",
   "execution_count": 22,
   "id": "a49802ff",
   "metadata": {},
   "outputs": [],
   "source": [
    "# save cleaned data into data folder\n",
    "import openpyxl\n",
    "\n",
    "df.to_excel(\"../data/cleaned_premier_league.xlsx\", index=False)\n",
    "df.to_csv(\"../data/cleaned_premier_league.csv\", index=False)"
   ]
  }
 ],
 "metadata": {
  "kernelspec": {
   "display_name": "prem",
   "language": "python",
   "name": "python3"
  },
  "language_info": {
   "codemirror_mode": {
    "name": "ipython",
    "version": 3
   },
   "file_extension": ".py",
   "mimetype": "text/x-python",
   "name": "python",
   "nbconvert_exporter": "python",
   "pygments_lexer": "ipython3",
   "version": "3.12.4"
  }
 },
 "nbformat": 4,
 "nbformat_minor": 5
}
